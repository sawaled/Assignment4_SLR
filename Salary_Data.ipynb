{
 "cells": [
  {
   "cell_type": "markdown",
   "id": "c9aebb12",
   "metadata": {},
   "source": [
    "## 1. Import necessary libraries"
   ]
  },
  {
   "cell_type": "code",
   "execution_count": 17,
   "id": "7fbd2154",
   "metadata": {},
   "outputs": [],
   "source": [
    "import pandas as pd\n",
    "\n",
    "import matplotlib.pyplot as plt\n",
    "\n",
    "import seaborn as sns\n",
    "\n",
    "import numpy as np\n",
    "\n",
    "import warnings\n",
    "warnings.filterwarnings('ignore')\n",
    "\n",
    "import statsmodels.formula.api as smf "
   ]
  },
  {
   "cell_type": "markdown",
   "id": "fae12a02",
   "metadata": {},
   "source": [
    "## 2.Buissness Understanding\n",
    "\n",
    "Based on provided data, salary hike to be predicted using simple linear regression model."
   ]
  },
  {
   "cell_type": "markdown",
   "id": "f073eb39",
   "metadata": {},
   "source": [
    "## 3. Data collection"
   ]
  },
  {
   "cell_type": "code",
   "execution_count": 18,
   "id": "e2ad7f62",
   "metadata": {},
   "outputs": [
    {
     "data": {
      "text/html": [
       "<div>\n",
       "<style scoped>\n",
       "    .dataframe tbody tr th:only-of-type {\n",
       "        vertical-align: middle;\n",
       "    }\n",
       "\n",
       "    .dataframe tbody tr th {\n",
       "        vertical-align: top;\n",
       "    }\n",
       "\n",
       "    .dataframe thead th {\n",
       "        text-align: right;\n",
       "    }\n",
       "</style>\n",
       "<table border=\"1\" class=\"dataframe\">\n",
       "  <thead>\n",
       "    <tr style=\"text-align: right;\">\n",
       "      <th></th>\n",
       "      <th>YearsExperience</th>\n",
       "      <th>Salary</th>\n",
       "    </tr>\n",
       "  </thead>\n",
       "  <tbody>\n",
       "    <tr>\n",
       "      <th>0</th>\n",
       "      <td>1.1</td>\n",
       "      <td>39343.0</td>\n",
       "    </tr>\n",
       "    <tr>\n",
       "      <th>1</th>\n",
       "      <td>1.3</td>\n",
       "      <td>46205.0</td>\n",
       "    </tr>\n",
       "    <tr>\n",
       "      <th>2</th>\n",
       "      <td>1.5</td>\n",
       "      <td>37731.0</td>\n",
       "    </tr>\n",
       "    <tr>\n",
       "      <th>3</th>\n",
       "      <td>2.0</td>\n",
       "      <td>43525.0</td>\n",
       "    </tr>\n",
       "    <tr>\n",
       "      <th>4</th>\n",
       "      <td>2.2</td>\n",
       "      <td>39891.0</td>\n",
       "    </tr>\n",
       "  </tbody>\n",
       "</table>\n",
       "</div>"
      ],
      "text/plain": [
       "   YearsExperience   Salary\n",
       "0              1.1  39343.0\n",
       "1              1.3  46205.0\n",
       "2              1.5  37731.0\n",
       "3              2.0  43525.0\n",
       "4              2.2  39891.0"
      ]
     },
     "execution_count": 18,
     "metadata": {},
     "output_type": "execute_result"
    }
   ],
   "source": [
    "df = pd.read_csv(r'C:\\Users\\sawaled\\Desktop\\Personal\\data\\Assignment_4_Simple linear regression\\Salary_Data.csv')\n",
    "df.head()"
   ]
  },
  {
   "cell_type": "markdown",
   "id": "e9e0a05c",
   "metadata": {},
   "source": [
    "### ========================================================================================"
   ]
  },
  {
   "cell_type": "markdown",
   "id": "d281cad5",
   "metadata": {},
   "source": [
    "## 4. Data understanding and Visualization"
   ]
  },
  {
   "cell_type": "code",
   "execution_count": 19,
   "id": "e61a09cf",
   "metadata": {},
   "outputs": [
    {
     "data": {
      "text/plain": [
       "(30, 2)"
      ]
     },
     "execution_count": 19,
     "metadata": {},
     "output_type": "execute_result"
    }
   ],
   "source": [
    "df.shape"
   ]
  },
  {
   "cell_type": "code",
   "execution_count": 20,
   "id": "95b2a2f1",
   "metadata": {},
   "outputs": [
    {
     "data": {
      "text/plain": [
       "YearsExperience    float64\n",
       "Salary             float64\n",
       "dtype: object"
      ]
     },
     "execution_count": 20,
     "metadata": {},
     "output_type": "execute_result"
    }
   ],
   "source": [
    "df.dtypes"
   ]
  },
  {
   "cell_type": "code",
   "execution_count": 21,
   "id": "509feb9b",
   "metadata": {},
   "outputs": [
    {
     "data": {
      "text/plain": [
       "YearsExperience    0\n",
       "Salary             0\n",
       "dtype: int64"
      ]
     },
     "execution_count": 21,
     "metadata": {},
     "output_type": "execute_result"
    }
   ],
   "source": [
    "df.isna().sum()"
   ]
  },
  {
   "cell_type": "code",
   "execution_count": 22,
   "id": "5ada80fa",
   "metadata": {},
   "outputs": [
    {
     "data": {
      "image/png": "[encoded data removed]",
      "text/plain": [
       "<Figure size 864x432 with 1 Axes>"
      ]
     },
     "metadata": {
      "needs_background": "light"
     },
     "output_type": "display_data"
    }
   ],
   "source": [
    "plt.figure(figsize=(12,6))\n",
    "sns.distplot(df['Salary'])\n",
    "plt.show()"
   ]
  },
  {
   "cell_type": "markdown",
   "id": "3322c2c8",
   "metadata": {},
   "source": [
    "### ======================================================================================="
   ]
  },
  {
   "cell_type": "markdown",
   "id": "206f0475",
   "metadata": {},
   "source": [
    "## 5. Data preparation and Model building and Evaluation with Scaled Values"
   ]
  },
  {
   "cell_type": "code",
   "execution_count": 23,
   "id": "0a0e4a85",
   "metadata": {},
   "outputs": [],
   "source": [
    "from sklearn.preprocessing import MinMaxScaler\n",
    "scaler = MinMaxScaler()\n",
    "df1 = scaler.fit_transform(df)\n",
    "df1 = pd.DataFrame(data= df1, columns=['YearsExperience', 'Salary'])"
   ]
  },
  {
   "cell_type": "code",
   "execution_count": 24,
   "id": "973e6285",
   "metadata": {},
   "outputs": [
    {
     "name": "stdout",
     "output_type": "stream",
     "text": [
      "<class 'pandas.core.frame.DataFrame'>\n",
      "RangeIndex: 30 entries, 0 to 29\n",
      "Data columns (total 2 columns):\n",
      " #   Column           Non-Null Count  Dtype  \n",
      "---  ------           --------------  -----  \n",
      " 0   YearsExperience  30 non-null     float64\n",
      " 1   Salary           30 non-null     float64\n",
      "dtypes: float64(2)\n",
      "memory usage: 608.0 bytes\n"
     ]
    }
   ],
   "source": [
    "df1.info()"
   ]
  },
  {
   "cell_type": "markdown",
   "id": "d6c61847",
   "metadata": {},
   "source": [
    "### ========================================================================================"
   ]
  },
  {
   "cell_type": "markdown",
   "id": "90a2906c",
   "metadata": {},
   "source": [
    "## 5.1. Linear regression assumption check"
   ]
  },
  {
   "cell_type": "markdown",
   "id": "56e02a18",
   "metadata": {},
   "source": [
    "### 5.1.1 Linearity check"
   ]
  },
  {
   "cell_type": "code",
   "execution_count": 25,
   "id": "a238d830",
   "metadata": {},
   "outputs": [
    {
     "data": {
      "text/plain": [
       "Text(0.5, 1.0, 'Linearity check')"
      ]
     },
     "execution_count": 25,
     "metadata": {},
     "output_type": "execute_result"
    },
    {
     "data": {
      "image/png": "[encoded data removed]",
      "text/plain": [
       "<Figure size 360x360 with 1 Axes>"
      ]
     },
     "metadata": {
      "needs_background": "light"
     },
     "output_type": "display_data"
    }
   ],
   "source": [
    "sns.lmplot( x= 'YearsExperience', y= 'Salary', data = df1)\n",
    "plt.title('Linearity check')"
   ]
  },
  {
   "cell_type": "markdown",
   "id": "84f228da",
   "metadata": {},
   "source": [
    "### 5.1.2 Normality check"
   ]
  },
  {
   "cell_type": "code",
   "execution_count": 26,
   "id": "f9f368b2",
   "metadata": {},
   "outputs": [
    {
     "data": {
      "image/png": "[encoded data removed]",
      "text/plain": [
       "<Figure size 432x288 with 1 Axes>"
      ]
     },
     "metadata": {
      "needs_background": "light"
     },
     "output_type": "display_data"
    }
   ],
   "source": [
    "sns.distplot(a= df1['YearsExperience'],hist=True, kde=True)\n",
    "plt.title('Normality check')\n",
    "plt.show()"
   ]
  },
  {
   "cell_type": "code",
   "execution_count": 27,
   "id": "e389020f",
   "metadata": {},
   "outputs": [
    {
     "data": {
      "text/plain": [
       "0.37956024064804145"
      ]
     },
     "execution_count": 27,
     "metadata": {},
     "output_type": "execute_result"
    }
   ],
   "source": [
    "df1['YearsExperience'].skew() # skew is in range 0-0.5 #Moderately symmetriceal about mean"
   ]
  },
  {
   "cell_type": "markdown",
   "id": "d155a7bc",
   "metadata": {},
   "source": [
    "### ========================================================================================"
   ]
  },
  {
   "cell_type": "markdown",
   "id": "e98abbd8",
   "metadata": {},
   "source": [
    "## 5.2 Model building"
   ]
  },
  {
   "cell_type": "code",
   "execution_count": 28,
   "id": "27093ae3",
   "metadata": {},
   "outputs": [],
   "source": [
    "linear_model = smf.ols('Salary~YearsExperience', data= df1).fit()"
   ]
  },
  {
   "cell_type": "code",
   "execution_count": 29,
   "id": "3ce5ed29",
   "metadata": {},
   "outputs": [
    {
     "data": {
      "text/plain": [
       "Intercept         -0.018236\n",
       "YearsExperience    1.049252\n",
       "dtype: float64"
      ]
     },
     "execution_count": 29,
     "metadata": {},
     "output_type": "execute_result"
    }
   ],
   "source": [
    "linear_model.params"
   ]
  },
  {
   "cell_type": "code",
   "execution_count": 30,
   "id": "7502e355",
   "metadata": {},
   "outputs": [
    {
     "data": {
      "text/html": [
       "<table class=\"simpletable\">\n",
       "<caption>OLS Regression Results</caption>\n",
       "<tr>\n",
       "  <th>Dep. Variable:</th>         <td>Salary</td>      <th>  R-squared:         </th> <td>   0.957</td>\n",
       "</tr>\n",
       "<tr>\n",
       "  <th>Model:</th>                   <td>OLS</td>       <th>  Adj. R-squared:    </th> <td>   0.955</td>\n",
       "</tr>\n",
       "<tr>\n",
       "  <th>Method:</th>             <td>Least Squares</td>  <th>  F-statistic:       </th> <td>   622.5</td>\n",
       "</tr>\n",
       "<tr>\n",
       "  <th>Date:</th>             <td>Sat, 19 Nov 2022</td> <th>  Prob (F-statistic):</th> <td>1.14e-20</td>\n",
       "</tr>\n",
       "<tr>\n",
       "  <th>Time:</th>                 <td>16:01:35</td>     <th>  Log-Likelihood:    </th> <td>  38.951</td>\n",
       "</tr>\n",
       "<tr>\n",
       "  <th>No. Observations:</th>      <td>    30</td>      <th>  AIC:               </th> <td>  -73.90</td>\n",
       "</tr>\n",
       "<tr>\n",
       "  <th>Df Residuals:</th>          <td>    28</td>      <th>  BIC:               </th> <td>  -71.10</td>\n",
       "</tr>\n",
       "<tr>\n",
       "  <th>Df Model:</th>              <td>     1</td>      <th>                     </th>     <td> </td>   \n",
       "</tr>\n",
       "<tr>\n",
       "  <th>Covariance Type:</th>      <td>nonrobust</td>    <th>                     </th>     <td> </td>   \n",
       "</tr>\n",
       "</table>\n",
       "<table class=\"simpletable\">\n",
       "<tr>\n",
       "         <td></td>            <th>coef</th>     <th>std err</th>      <th>t</th>      <th>P>|t|</th>  <th>[0.025</th>    <th>0.975]</th>  \n",
       "</tr>\n",
       "<tr>\n",
       "  <th>Intercept</th>       <td>   -0.0182</td> <td>    0.023</td> <td>   -0.807</td> <td> 0.427</td> <td>   -0.065</td> <td>    0.028</td>\n",
       "</tr>\n",
       "<tr>\n",
       "  <th>YearsExperience</th> <td>    1.0493</td> <td>    0.042</td> <td>   24.950</td> <td> 0.000</td> <td>    0.963</td> <td>    1.135</td>\n",
       "</tr>\n",
       "</table>\n",
       "<table class=\"simpletable\">\n",
       "<tr>\n",
       "  <th>Omnibus:</th>       <td> 2.140</td> <th>  Durbin-Watson:     </th> <td>   1.648</td>\n",
       "</tr>\n",
       "<tr>\n",
       "  <th>Prob(Omnibus):</th> <td> 0.343</td> <th>  Jarque-Bera (JB):  </th> <td>   1.569</td>\n",
       "</tr>\n",
       "<tr>\n",
       "  <th>Skew:</th>          <td> 0.363</td> <th>  Prob(JB):          </th> <td>   0.456</td>\n",
       "</tr>\n",
       "<tr>\n",
       "  <th>Kurtosis:</th>      <td> 2.147</td> <th>  Cond. No.          </th> <td>    4.10</td>\n",
       "</tr>\n",
       "</table><br/><br/>Notes:<br/>[1] Standard Errors assume that the covariance matrix of the errors is correctly specified."
      ],
      "text/plain": [
       "<class 'statsmodels.iolib.summary.Summary'>\n",
       "\"\"\"\n",
       "                            OLS Regression Results                            \n",
       "==============================================================================\n",
       "Dep. Variable:                 Salary   R-squared:                       0.957\n",
       "Model:                            OLS   Adj. R-squared:                  0.955\n",
       "Method:                 Least Squares   F-statistic:                     622.5\n",
       "Date:                Sat, 19 Nov 2022   Prob (F-statistic):           1.14e-20\n",
       "Time:                        16:01:35   Log-Likelihood:                 38.951\n",
       "No. Observations:                  30   AIC:                            -73.90\n",
       "Df Residuals:                      28   BIC:                            -71.10\n",
       "Df Model:                           1                                         \n",
       "Covariance Type:            nonrobust                                         \n",
       "===================================================================================\n",
       "                      coef    std err          t      P>|t|      [0.025      0.975]\n",
       "-----------------------------------------------------------------------------------\n",
       "Intercept          -0.0182      0.023     -0.807      0.427      -0.065       0.028\n",
       "YearsExperience     1.0493      0.042     24.950      0.000       0.963       1.135\n",
       "==============================================================================\n",
       "Omnibus:                        2.140   Durbin-Watson:                   1.648\n",
       "Prob(Omnibus):                  0.343   Jarque-Bera (JB):                1.569\n",
       "Skew:                           0.363   Prob(JB):                        0.456\n",
       "Kurtosis:                       2.147   Cond. No.                         4.10\n",
       "==============================================================================\n",
       "\n",
       "Notes:\n",
       "[1] Standard Errors assume that the covariance matrix of the errors is correctly specified.\n",
       "\"\"\""
      ]
     },
     "execution_count": 30,
     "metadata": {},
     "output_type": "execute_result"
    }
   ],
   "source": [
    "linear_model.summary() #Adjusted R value more than 90%"
   ]
  },
  {
   "cell_type": "markdown",
   "id": "8aa4a0ff",
   "metadata": {},
   "source": [
    "### ======================================================================================="
   ]
  },
  {
   "cell_type": "markdown",
   "id": "246a1427",
   "metadata": {},
   "source": [
    "## 5.3. Model prediction "
   ]
  },
  {
   "cell_type": "code",
   "execution_count": 31,
   "id": "2ed86f00",
   "metadata": {},
   "outputs": [],
   "source": [
    "X = df1['YearsExperience']"
   ]
  },
  {
   "cell_type": "code",
   "execution_count": 32,
   "id": "c9bcdcd8",
   "metadata": {},
   "outputs": [],
   "source": [
    "y_pred = linear_model.predict(X).round().astype(int)"
   ]
  },
  {
   "cell_type": "code",
   "execution_count": 33,
   "id": "0735c956",
   "metadata": {},
   "outputs": [
    {
     "data": {
      "text/plain": [
       "0    0.019041\n",
       "1    0.100094\n",
       "2    0.000000\n",
       "3    0.068438\n",
       "4    0.025514\n",
       "dtype: float64"
      ]
     },
     "execution_count": 33,
     "metadata": {},
     "output_type": "execute_result"
    }
   ],
   "source": [
    "error= df1['Salary'] - y_pred\n",
    "error.head()"
   ]
  },
  {
   "cell_type": "code",
   "execution_count": 34,
   "id": "2bb97b64",
   "metadata": {},
   "outputs": [
    {
     "data": {
      "text/plain": [
       "0.06273510569749899"
      ]
     },
     "execution_count": 34,
     "metadata": {},
     "output_type": "execute_result"
    }
   ],
   "source": [
    "mean_squared_error = np.mean((df1['Salary']-y_pred)**2)\n",
    "mean_squared_error"
   ]
  },
  {
   "cell_type": "markdown",
   "id": "52e81b1f",
   "metadata": {},
   "source": [
    "### ======================================================================================="
   ]
  },
  {
   "cell_type": "markdown",
   "id": "3bfa949b",
   "metadata": {},
   "source": [
    "## 5.4. Check for Homoscedasticity and Zero residual mean"
   ]
  },
  {
   "cell_type": "markdown",
   "id": "11002b6d",
   "metadata": {},
   "source": [
    "### 5.4.1 Residual plot"
   ]
  },
  {
   "cell_type": "code",
   "execution_count": 35,
   "id": "1582bd56",
   "metadata": {
    "scrolled": false
   },
   "outputs": [
    {
     "data": {
      "image/png": "[encoded data removed]",
      "text/plain": [
       "<Figure size 432x288 with 1 Axes>"
      ]
     },
     "metadata": {
      "needs_background": "light"
     },
     "output_type": "display_data"
    }
   ],
   "source": [
    "import statsmodels.api as sm\n",
    "sm.qqplot(linear_model.resid, line='q')\n",
    "plt.show()"
   ]
  },
  {
   "cell_type": "markdown",
   "id": "5f9cd72c",
   "metadata": {},
   "source": [
    "### 5.4.2  Check for Homoscedasticity\n",
    "\n",
    "plot of standardized fitted value vc standardised residual values"
   ]
  },
  {
   "cell_type": "code",
   "execution_count": 36,
   "id": "e04ef20b",
   "metadata": {},
   "outputs": [],
   "source": [
    "def std_value(i):\n",
    "    return (i-i.mean())/i.std()"
   ]
  },
  {
   "cell_type": "code",
   "execution_count": 37,
   "id": "0585e15a",
   "metadata": {
    "scrolled": true
   },
   "outputs": [
    {
     "data": {
      "image/png": "[encoded data removed]",
      "text/plain": [
       "<Figure size 432x288 with 1 Axes>"
      ]
     },
     "metadata": {
      "needs_background": "light"
     },
     "output_type": "display_data"
    }
   ],
   "source": [
    "plt.scatter( x= std_value(linear_model.fittedvalues), y= std_value(linear_model.resid))\n",
    "plt.title('Homoscedasticity check')\n",
    "plt.show()"
   ]
  },
  {
   "cell_type": "markdown",
   "id": "fab1b828",
   "metadata": {},
   "source": [
    "### ========================================================================================="
   ]
  },
  {
   "cell_type": "markdown",
   "id": "cdd8804b",
   "metadata": {},
   "source": [
    "### ========================================================================================="
   ]
  },
  {
   "cell_type": "markdown",
   "id": "ebde9a09",
   "metadata": {},
   "source": [
    "## 6. Data preparation and Model building and Evaluation with Square root Values"
   ]
  },
  {
   "cell_type": "code",
   "execution_count": 42,
   "id": "abe90f75",
   "metadata": {},
   "outputs": [
    {
     "data": {
      "text/html": [
       "<div>\n",
       "<style scoped>\n",
       "    .dataframe tbody tr th:only-of-type {\n",
       "        vertical-align: middle;\n",
       "    }\n",
       "\n",
       "    .dataframe tbody tr th {\n",
       "        vertical-align: top;\n",
       "    }\n",
       "\n",
       "    .dataframe thead th {\n",
       "        text-align: right;\n",
       "    }\n",
       "</style>\n",
       "<table border=\"1\" class=\"dataframe\">\n",
       "  <thead>\n",
       "    <tr style=\"text-align: right;\">\n",
       "      <th></th>\n",
       "      <th>YearsExperience</th>\n",
       "      <th>Salary</th>\n",
       "    </tr>\n",
       "  </thead>\n",
       "  <tbody>\n",
       "    <tr>\n",
       "      <th>0</th>\n",
       "      <td>1.1</td>\n",
       "      <td>39343.0</td>\n",
       "    </tr>\n",
       "    <tr>\n",
       "      <th>1</th>\n",
       "      <td>1.3</td>\n",
       "      <td>46205.0</td>\n",
       "    </tr>\n",
       "    <tr>\n",
       "      <th>2</th>\n",
       "      <td>1.5</td>\n",
       "      <td>37731.0</td>\n",
       "    </tr>\n",
       "    <tr>\n",
       "      <th>3</th>\n",
       "      <td>2.0</td>\n",
       "      <td>43525.0</td>\n",
       "    </tr>\n",
       "    <tr>\n",
       "      <th>4</th>\n",
       "      <td>2.2</td>\n",
       "      <td>39891.0</td>\n",
       "    </tr>\n",
       "  </tbody>\n",
       "</table>\n",
       "</div>"
      ],
      "text/plain": [
       "   YearsExperience   Salary\n",
       "0              1.1  39343.0\n",
       "1              1.3  46205.0\n",
       "2              1.5  37731.0\n",
       "3              2.0  43525.0\n",
       "4              2.2  39891.0"
      ]
     },
     "execution_count": 42,
     "metadata": {},
     "output_type": "execute_result"
    }
   ],
   "source": [
    "df2 = df.copy()\n",
    "df2.head()"
   ]
  },
  {
   "cell_type": "code",
   "execution_count": 58,
   "id": "048e175a",
   "metadata": {},
   "outputs": [
    {
     "data": {
      "text/html": [
       "<div>\n",
       "<style scoped>\n",
       "    .dataframe tbody tr th:only-of-type {\n",
       "        vertical-align: middle;\n",
       "    }\n",
       "\n",
       "    .dataframe tbody tr th {\n",
       "        vertical-align: top;\n",
       "    }\n",
       "\n",
       "    .dataframe thead th {\n",
       "        text-align: right;\n",
       "    }\n",
       "</style>\n",
       "<table border=\"1\" class=\"dataframe\">\n",
       "  <thead>\n",
       "    <tr style=\"text-align: right;\">\n",
       "      <th></th>\n",
       "      <th>YearsExperience</th>\n",
       "      <th>Salary</th>\n",
       "    </tr>\n",
       "  </thead>\n",
       "  <tbody>\n",
       "    <tr>\n",
       "      <th>0</th>\n",
       "      <td>1.1</td>\n",
       "      <td>3.252702</td>\n",
       "    </tr>\n",
       "    <tr>\n",
       "      <th>1</th>\n",
       "      <td>1.3</td>\n",
       "      <td>3.277323</td>\n",
       "    </tr>\n",
       "    <tr>\n",
       "      <th>2</th>\n",
       "      <td>1.5</td>\n",
       "      <td>3.246265</td>\n",
       "    </tr>\n",
       "    <tr>\n",
       "      <th>3</th>\n",
       "      <td>2.0</td>\n",
       "      <td>3.268194</td>\n",
       "    </tr>\n",
       "    <tr>\n",
       "      <th>4</th>\n",
       "      <td>2.2</td>\n",
       "      <td>3.254828</td>\n",
       "    </tr>\n",
       "  </tbody>\n",
       "</table>\n",
       "</div>"
      ],
      "text/plain": [
       "   YearsExperience    Salary\n",
       "0              1.1  3.252702\n",
       "1              1.3  3.277323\n",
       "2              1.5  3.246265\n",
       "3              2.0  3.268194\n",
       "4              2.2  3.254828"
      ]
     },
     "execution_count": 58,
     "metadata": {},
     "output_type": "execute_result"
    }
   ],
   "source": [
    "df2['Salary'] = np.sqrt(df2['Salary'])\n",
    "df2.head()"
   ]
  },
  {
   "cell_type": "markdown",
   "id": "d6c61847",
   "metadata": {},
   "source": [
    "### ========================================================================================"
   ]
  },
  {
   "cell_type": "markdown",
   "id": "90a2906c",
   "metadata": {},
   "source": [
    "## 6.1. Linear regression assumption check"
   ]
  },
  {
   "cell_type": "markdown",
   "id": "56e02a18",
   "metadata": {},
   "source": [
    "### 6.1.1 Linearity check"
   ]
  },
  {
   "cell_type": "code",
   "execution_count": 59,
   "id": "a238d830",
   "metadata": {},
   "outputs": [
    {
     "data": {
      "image/png": "[encoded data removed]",
      "text/plain": [
       "<Figure size 360x360 with 1 Axes>"
      ]
     },
     "metadata": {
      "needs_background": "light"
     },
     "output_type": "display_data"
    }
   ],
   "source": [
    "sns.lmplot( x= 'YearsExperience', y= 'Salary', data = df2)\n",
    "plt.title('Linearity check')\n",
    "plt.show()"
   ]
  },
  {
   "cell_type": "markdown",
   "id": "84f228da",
   "metadata": {},
   "source": [
    "### 6.1.2 Normality check"
   ]
  },
  {
   "cell_type": "code",
   "execution_count": 60,
   "id": "f9f368b2",
   "metadata": {},
   "outputs": [
    {
     "data": {
      "image/png": "[encoded data removed]",
      "text/plain": [
       "<Figure size 432x288 with 1 Axes>"
      ]
     },
     "metadata": {
      "needs_background": "light"
     },
     "output_type": "display_data"
    }
   ],
   "source": [
    "sns.distplot(a= df2['YearsExperience'],hist=True, kde=True)\n",
    "plt.title('Normality check')\n",
    "plt.show()"
   ]
  },
  {
   "cell_type": "code",
   "execution_count": 61,
   "id": "e389020f",
   "metadata": {},
   "outputs": [
    {
     "data": {
      "text/plain": [
       "0.37956024064804106"
      ]
     },
     "execution_count": 61,
     "metadata": {},
     "output_type": "execute_result"
    }
   ],
   "source": [
    "df2['YearsExperience'].skew() # skew is in range 0-0.5 #Moderately symmetriceal about mean"
   ]
  },
  {
   "cell_type": "markdown",
   "id": "d155a7bc",
   "metadata": {},
   "source": [
    "### ========================================================================================"
   ]
  },
  {
   "cell_type": "markdown",
   "id": "e98abbd8",
   "metadata": {},
   "source": [
    "## 6.2 Model building"
   ]
  },
  {
   "cell_type": "code",
   "execution_count": 62,
   "id": "27093ae3",
   "metadata": {},
   "outputs": [],
   "source": [
    "linear_model1 = smf.ols('Salary~YearsExperience', data= df2).fit()"
   ]
  },
  {
   "cell_type": "code",
   "execution_count": 63,
   "id": "3ce5ed29",
   "metadata": {},
   "outputs": [
    {
     "data": {
      "text/plain": [
       "Intercept          3.242661\n",
       "YearsExperience    0.018754\n",
       "dtype: float64"
      ]
     },
     "execution_count": 63,
     "metadata": {},
     "output_type": "execute_result"
    }
   ],
   "source": [
    "linear_model1.params"
   ]
  },
  {
   "cell_type": "code",
   "execution_count": 64,
   "id": "7502e355",
   "metadata": {},
   "outputs": [
    {
     "data": {
      "text/html": [
       "<table class=\"simpletable\">\n",
       "<caption>OLS Regression Results</caption>\n",
       "<tr>\n",
       "  <th>Dep. Variable:</th>         <td>Salary</td>      <th>  R-squared:         </th> <td>   0.930</td>\n",
       "</tr>\n",
       "<tr>\n",
       "  <th>Model:</th>                   <td>OLS</td>       <th>  Adj. R-squared:    </th> <td>   0.927</td>\n",
       "</tr>\n",
       "<tr>\n",
       "  <th>Method:</th>             <td>Least Squares</td>  <th>  F-statistic:       </th> <td>   370.8</td>\n",
       "</tr>\n",
       "<tr>\n",
       "  <th>Date:</th>             <td>Sat, 19 Nov 2022</td> <th>  Prob (F-statistic):</th> <td>1.09e-17</td>\n",
       "</tr>\n",
       "<tr>\n",
       "  <th>Time:</th>                 <td>16:07:36</td>     <th>  Log-Likelihood:    </th> <td>  84.691</td>\n",
       "</tr>\n",
       "<tr>\n",
       "  <th>No. Observations:</th>      <td>    30</td>      <th>  AIC:               </th> <td>  -165.4</td>\n",
       "</tr>\n",
       "<tr>\n",
       "  <th>Df Residuals:</th>          <td>    28</td>      <th>  BIC:               </th> <td>  -162.6</td>\n",
       "</tr>\n",
       "<tr>\n",
       "  <th>Df Model:</th>              <td>     1</td>      <th>                     </th>     <td> </td>   \n",
       "</tr>\n",
       "<tr>\n",
       "  <th>Covariance Type:</th>      <td>nonrobust</td>    <th>                     </th>     <td> </td>   \n",
       "</tr>\n",
       "</table>\n",
       "<table class=\"simpletable\">\n",
       "<tr>\n",
       "         <td></td>            <th>coef</th>     <th>std err</th>      <th>t</th>      <th>P>|t|</th>  <th>[0.025</th>    <th>0.975]</th>  \n",
       "</tr>\n",
       "<tr>\n",
       "  <th>Intercept</th>       <td>    3.2427</td> <td>    0.006</td> <td>  554.785</td> <td> 0.000</td> <td>    3.231</td> <td>    3.255</td>\n",
       "</tr>\n",
       "<tr>\n",
       "  <th>YearsExperience</th> <td>    0.0188</td> <td>    0.001</td> <td>   19.256</td> <td> 0.000</td> <td>    0.017</td> <td>    0.021</td>\n",
       "</tr>\n",
       "</table>\n",
       "<table class=\"simpletable\">\n",
       "<tr>\n",
       "  <th>Omnibus:</th>       <td> 0.680</td> <th>  Durbin-Watson:     </th> <td>   1.421</td>\n",
       "</tr>\n",
       "<tr>\n",
       "  <th>Prob(Omnibus):</th> <td> 0.712</td> <th>  Jarque-Bera (JB):  </th> <td>   0.721</td>\n",
       "</tr>\n",
       "<tr>\n",
       "  <th>Skew:</th>          <td> 0.154</td> <th>  Prob(JB):          </th> <td>   0.697</td>\n",
       "</tr>\n",
       "<tr>\n",
       "  <th>Kurtosis:</th>      <td> 2.306</td> <th>  Cond. No.          </th> <td>    13.2</td>\n",
       "</tr>\n",
       "</table><br/><br/>Notes:<br/>[1] Standard Errors assume that the covariance matrix of the errors is correctly specified."
      ],
      "text/plain": [
       "<class 'statsmodels.iolib.summary.Summary'>\n",
       "\"\"\"\n",
       "                            OLS Regression Results                            \n",
       "==============================================================================\n",
       "Dep. Variable:                 Salary   R-squared:                       0.930\n",
       "Model:                            OLS   Adj. R-squared:                  0.927\n",
       "Method:                 Least Squares   F-statistic:                     370.8\n",
       "Date:                Sat, 19 Nov 2022   Prob (F-statistic):           1.09e-17\n",
       "Time:                        16:07:36   Log-Likelihood:                 84.691\n",
       "No. Observations:                  30   AIC:                            -165.4\n",
       "Df Residuals:                      28   BIC:                            -162.6\n",
       "Df Model:                           1                                         \n",
       "Covariance Type:            nonrobust                                         \n",
       "===================================================================================\n",
       "                      coef    std err          t      P>|t|      [0.025      0.975]\n",
       "-----------------------------------------------------------------------------------\n",
       "Intercept           3.2427      0.006    554.785      0.000       3.231       3.255\n",
       "YearsExperience     0.0188      0.001     19.256      0.000       0.017       0.021\n",
       "==============================================================================\n",
       "Omnibus:                        0.680   Durbin-Watson:                   1.421\n",
       "Prob(Omnibus):                  0.712   Jarque-Bera (JB):                0.721\n",
       "Skew:                           0.154   Prob(JB):                        0.697\n",
       "Kurtosis:                       2.306   Cond. No.                         13.2\n",
       "==============================================================================\n",
       "\n",
       "Notes:\n",
       "[1] Standard Errors assume that the covariance matrix of the errors is correctly specified.\n",
       "\"\"\""
      ]
     },
     "execution_count": 64,
     "metadata": {},
     "output_type": "execute_result"
    }
   ],
   "source": [
    "linear_model1.summary() #Adjusted R value more than 90%"
   ]
  },
  {
   "cell_type": "markdown",
   "id": "8aa4a0ff",
   "metadata": {},
   "source": [
    "### ======================================================================================="
   ]
  },
  {
   "cell_type": "markdown",
   "id": "246a1427",
   "metadata": {},
   "source": [
    "## 6.3. Model prediction "
   ]
  },
  {
   "cell_type": "code",
   "execution_count": 65,
   "id": "2ed86f00",
   "metadata": {},
   "outputs": [],
   "source": [
    "X1 = df2['YearsExperience']"
   ]
  },
  {
   "cell_type": "code",
   "execution_count": 66,
   "id": "c9bcdcd8",
   "metadata": {},
   "outputs": [],
   "source": [
    "y_pred1 = linear_model1.predict(X1).round().astype(int)"
   ]
  },
  {
   "cell_type": "code",
   "execution_count": 67,
   "id": "0735c956",
   "metadata": {},
   "outputs": [
    {
     "data": {
      "text/plain": [
       "0    0.252702\n",
       "1    0.277323\n",
       "2    0.246265\n",
       "3    0.268194\n",
       "4    0.254828\n",
       "dtype: float64"
      ]
     },
     "execution_count": 67,
     "metadata": {},
     "output_type": "execute_result"
    }
   ],
   "source": [
    "error= df2['Salary'] - y_pred1\n",
    "error.head()"
   ]
  },
  {
   "cell_type": "code",
   "execution_count": 68,
   "id": "2bb97b64",
   "metadata": {},
   "outputs": [
    {
     "data": {
      "text/plain": [
       "0.12012049827755715"
      ]
     },
     "execution_count": 68,
     "metadata": {},
     "output_type": "execute_result"
    }
   ],
   "source": [
    "mean_squared_error = np.mean((df2['Salary']-y_pred1)**2)\n",
    "mean_squared_error"
   ]
  },
  {
   "cell_type": "markdown",
   "id": "52e81b1f",
   "metadata": {},
   "source": [
    "### ======================================================================================="
   ]
  },
  {
   "cell_type": "markdown",
   "id": "3bfa949b",
   "metadata": {},
   "source": [
    "## 6.4. Check for Homoscedasticity and Zero residual mean"
   ]
  },
  {
   "cell_type": "markdown",
   "id": "11002b6d",
   "metadata": {},
   "source": [
    "### 6.4.1 Residual plot"
   ]
  },
  {
   "cell_type": "code",
   "execution_count": 69,
   "id": "1582bd56",
   "metadata": {
    "scrolled": false
   },
   "outputs": [
    {
     "data": {
      "image/png": "[encoded data removed]",
      "text/plain": [
       "<Figure size 432x288 with 1 Axes>"
      ]
     },
     "metadata": {
      "needs_background": "light"
     },
     "output_type": "display_data"
    }
   ],
   "source": [
    "import statsmodels.api as sm\n",
    "sm.qqplot(linear_model1.resid, line='q')\n",
    "plt.show()"
   ]
  },
  {
   "cell_type": "markdown",
   "id": "5f9cd72c",
   "metadata": {},
   "source": [
    "### 6.4.2  Check for Homoscedasticity\n",
    "\n",
    "plot of standardized fitted value vc standardised residual values"
   ]
  },
  {
   "cell_type": "code",
   "execution_count": 70,
   "id": "e04ef20b",
   "metadata": {},
   "outputs": [],
   "source": [
    "def std_value(i):\n",
    "    return (i-i.mean())/i.std()"
   ]
  },
  {
   "cell_type": "code",
   "execution_count": 71,
   "id": "0585e15a",
   "metadata": {
    "scrolled": true
   },
   "outputs": [
    {
     "data": {
      "image/png": "[encoded data removed]",
      "text/plain": [
       "<Figure size 432x288 with 1 Axes>"
      ]
     },
     "metadata": {
      "needs_background": "light"
     },
     "output_type": "display_data"
    }
   ],
   "source": [
    "plt.scatter( x= std_value(linear_model1.fittedvalues), y= std_value(linear_model1.resid))\n",
    "plt.title('Homoscedasticity check')\n",
    "plt.show()"
   ]
  },
  {
   "cell_type": "markdown",
   "id": "89423365",
   "metadata": {},
   "source": [
    "### ========================================================================================="
   ]
  }
 ],
 "metadata": {
  "kernelspec": {
   "display_name": "Python 3 (ipykernel)",
   "language": "python",
   "name": "python3"
  },
  "language_info": {
   "codemirror_mode": {
    "name": "ipython",
    "version": 3
   },
   "file_extension": ".py",
   "mimetype": "text/x-python",
   "name": "python",
   "nbconvert_exporter": "python",
   "pygments_lexer": "ipython3",
   "version": "3.9.7"
  }
 },
 "nbformat": 4,
 "nbformat_minor": 5
}
